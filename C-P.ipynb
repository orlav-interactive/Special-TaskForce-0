{
 "cells": [
  {
   "cell_type": "code",
   "execution_count": 21,
   "metadata": {},
   "outputs": [],
   "source": [
    "import torch\n",
    "import torch.nn as nn\n",
    "import torch.nn.functional as F\n",
    "import numpy\n",
    "import pandas\n",
    "#import torch.optim as optim\n",
    "#import torchvision\n",
    "#import torchvision.transforms as tf\n",
    "#import matplotlib.pyplot as plot\n",
    "import time\n",
    "#from IPython.display import Image\n",
    "#from PIL import Image as Imagu\n",
    "import sklearn\n",
    "import sklearn.tree as tree"
   ]
  },
  {
   "cell_type": "code",
   "execution_count": 6,
   "metadata": {},
   "outputs": [],
   "source": [
    "#help(torch)"
   ]
  },
  {
   "cell_type": "code",
   "execution_count": null,
   "metadata": {},
   "outputs": [],
   "source": []
  },
  {
   "cell_type": "code",
   "execution_count": 25,
   "metadata": {},
   "outputs": [],
   "source": [
    "#our prediction networks:\n",
    "# Day to Day moving predictions (updates every day)\n",
    "\n",
    "# Minute to Minute movinng predictions (updates every minute): high intensity NN\n",
    "\n",
    "# Lstm structure...? \n",
    "\n",
    "class DtoDMovingPrediction(nn.Module):\n",
    "    def __init__(self):\n",
    "        super().__init__()\n",
    "        #questions to ask: \n",
    "        # importance of data augmentation with formulaic manipulations of current data\n",
    "        # *, /, equations etc....\n",
    "        self.initdatapoints = 100\n",
    "        self.strt = nn.Linear(self.initdatapoints, 50)\n",
    "        self.lyr1 = nn.Linear(50,25)\n",
    "        self.lyr2 = nn.Linear(25,15)\n",
    "        self.end = nn.Linear(15,3)\n",
    "        #our prediction values\n",
    "        # 1: high for 24 hours period\n",
    "        # 2: low for 24 hour period\n",
    "        # 3: volatility, i.e. aggregated % movement\n",
    "    def forward(self, x):\n",
    "        x = F.relu(self.strt(x))\n",
    "        x = F.relu(self.lyr1(x))\n",
    "        x = F.relu(self.lyr2(x))\n",
    "        x = self.end(x)\n",
    "        return x\n",
    "class MtoMMovingPrediction(nn.Module):\n",
    "    def __init__(self):\n",
    "        super().__init__()\n",
    "        #questions to ask: \n",
    "        # importance of data augmentation with formulaic manipulations of current data\n",
    "        # *, /, equations etc....\n",
    "        \n",
    "        #our input is: 5 minute general data  over 4 hours + 1 minute price across previous 4 hours\n",
    "        self.initdatapoints = 8*(96) + 480\n",
    "        self.strt = nn.Linear(self.initdatapoints, 490)\n",
    "        self.lyr1 = nn.Linear(490,400)\n",
    "        self.lyr2 = nn.Linear(400,320)\n",
    "        self.end = nn.Linear(320,240)\n",
    "        #our prediction values\n",
    "        # 1-240: minute to minute 2 hour prediction\n",
    "    def forward(self, x):\n",
    "        # do we want convolving of anything?? or for that matter pooling (across Time Series)\n",
    "        x = F.relu(self.strt(x))\n",
    "        x = F.relu(self.lyr1(x))\n",
    "        x = F.relu(self.lyr2(x))\n",
    "        x = self.end(x)\n",
    "        return x\n",
    "\n",
    "class LSTM(nn.Module):\n",
    "    #WIP\n",
    "    def __init__(self):\n",
    "        super().__init__()\n",
    "    def foward(self, x):\n",
    "        pass\n",
    "    \n",
    "DecisionAggregator = tree.DecisionTreeClassifier()\n",
    "DayPredictor = DtoDMovingPrediction()\n",
    "MinutePredictor = MtoMMovingPrediction()\n",
    "        "
   ]
  },
  {
   "cell_type": "code",
   "execution_count": 23,
   "metadata": {},
   "outputs": [
    {
     "data": {
      "text/plain": [
       "DecisionTreeClassifier(class_weight=None, criterion='gini', max_depth=None,\n",
       "            max_features=None, max_leaf_nodes=None,\n",
       "            min_impurity_decrease=0.0, min_impurity_split=None,\n",
       "            min_samples_leaf=1, min_samples_split=2,\n",
       "            min_weight_fraction_leaf=0.0, presort=False, random_state=None,\n",
       "            splitter='best')"
      ]
     },
     "execution_count": 23,
     "metadata": {},
     "output_type": "execute_result"
    }
   ],
   "source": [
    "DecisionAggregator"
   ]
  }
 ],
 "metadata": {
  "kernelspec": {
   "display_name": "Python 3",
   "language": "python",
   "name": "python3"
  },
  "language_info": {
   "codemirror_mode": {
    "name": "ipython",
    "version": 3
   },
   "file_extension": ".py",
   "mimetype": "text/x-python",
   "name": "python",
   "nbconvert_exporter": "python",
   "pygments_lexer": "ipython3",
   "version": "3.6.5"
  }
 },
 "nbformat": 4,
 "nbformat_minor": 2
}
