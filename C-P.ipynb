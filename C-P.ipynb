{
 "cells": [
  {
   "cell_type": "code",
   "execution_count": 21,
   "metadata": {},
   "outputs": [],
   "source": [
    "import torch\n",
    "import torch.nn as nn\n",
    "import torch.nn.functional as F\n",
    "import numpy\n",
    "import pandas\n",
    "#import torch.optim as optim\n",
    "#import torchvision\n",
    "#import torchvision.transforms as tf\n",
    "#import matplotlib.pyplot as plot\n",
    "import time\n",
    "#from IPython.display import Image\n",
    "#from PIL import Image as Imagu\n",
    "import sklearn\n",
    "import sklearn.tree as tree"
   ]
  },
  {
   "cell_type": "code",
   "execution_count": 6,
   "metadata": {},
   "outputs": [],
   "source": [
    "#help(torch)"
   ]
  },
  {
   "cell_type": "code",
   "execution_count": null,
   "metadata": {},
   "outputs": [],
   "source": []
  },
  {
   "cell_type": "code",
   "execution_count": 25,
   "metadata": {},
   "outputs": [],
   "source": [
    "#our prediction networks:\n",
    "# Day to Day moving predictions (updates every day)\n",
    "\n",
    "# Minute to Minute movinng predictions (updates every minute): high intensity NN\n",
    "\n",
    "# Lstm structure...? \n",
    "\n",
    "class DtoDMovingPrediction(nn.Module):\n",
    "    def __init__(self):\n",
    "        super().__init__()\n",
    "        #questions to ask: \n",
    "        # importance of data augmentation with formulaic manipulations of current data\n",
    "        # *, /, equations etc....\n",
    "        self.initdatapoints = 100\n",
    "        self.strt = nn.Linear(self.initdatapoints, 50)\n",
    "        self.lyr1 = nn.Linear(50,25)\n",
    "        self.lyr2 = nn.Linear(25,15)\n",
    "        self.end = nn.Linear(15,3)\n",
    "        #our prediction values\n",
    "        # 1: high for 24 hours period\n",
    "        # 2: low for 24 hour period\n",
    "        # 3: volatility, i.e. aggregated % movement\n",
    "    def forward(self, x):\n",
    "        x = F.relu(self.strt(x))\n",
    "        x = F.relu(self.lyr1(x))\n",
    "        x = F.relu(self.lyr2(x))\n",
    "        x = self.end(x)\n",
    "        return x\n",
    "class MtoMMovingPrediction(nn.Module):\n",
    "    def __init__(self):\n",
    "        super().__init__()\n",
    "        #questions to ask: \n",
    "        # importance of data augmentation with formulaic manipulations of current data\n",
    "        # *, /, equations etc....\n",
    "        \n",
    "        #our input is: 5 minute general data  over 4 hours + 1 minute price across previous 4 hours\n",
    "        self.initdatapoints = 8*(96) + 480\n",
    "        self.strt = nn.Linear(self.initdatapoints, 490)\n",
    "        self.lyr1 = nn.Linear(490,400)\n",
    "        self.lyr2 = nn.Linear(400,320)\n",
    "        self.end = nn.Linear(320,240)\n",
    "        #our prediction values\n",
    "        # 1-240: minute to minute 2 hour prediction\n",
    "    def forward(self, x):\n",
    "        # do we want convolving of anything?? or for that matter pooling (across Time Series)\n",
    "        x = F.relu(self.strt(x))\n",
    "        x = F.relu(self.lyr1(x))\n",
    "        x = F.relu(self.lyr2(x))\n",
    "        x = self.end(x)\n",
    "        return x\n",
    "\n",
    "class LSTM(nn.Module):\n",
    "    #WIP\n",
    "    def __init__(self):\n",
    "        super().__init__()\n",
    "    def foward(self, x):\n",
    "        pass\n",
    "    \n",
    "DecisionAggregator = tree.DecisionTreeClassifier()\n",
    "DayPredictor = DtoDMovingPrediction()\n",
    "MinutePredictor = MtoMMovingPrediction()\n",
    "        "
   ]
  },
  {
   "cell_type": "code",
   "execution_count": 23,
   "metadata": {},
   "outputs": [
    {
     "data": {
      "text/plain": [
       "DecisionTreeClassifier(class_weight=None, criterion='gini', max_depth=None,\n",
       "            max_features=None, max_leaf_nodes=None,\n",
       "            min_impurity_decrease=0.0, min_impurity_split=None,\n",
       "            min_samples_leaf=1, min_samples_split=2,\n",
       "            min_weight_fraction_leaf=0.0, presort=False, random_state=None,\n",
       "            splitter='best')"
      ]
     },
     "execution_count": 23,
     "metadata": {},
     "output_type": "execute_result"
    }
   ],
   "source": [
    "DecisionAggregator"
   ]
  },
  {
   "cell_type": "code",
   "execution_count": 26,
   "metadata": {},
   "outputs": [],
   "source": [
    "import pickle"
   ]
  },
  {
   "cell_type": "code",
   "execution_count": null,
   "metadata": {},
   "outputs": [],
   "source": [
    "pickle.dump(stuff, file)"
   ]
  },
  {
   "cell_type": "code",
   "execution_count": 34,
   "metadata": {},
   "outputs": [],
   "source": [
    "#with temp = open('C-P','w+b')"
   ]
  },
  {
   "cell_type": "code",
   "execution_count": 49,
   "metadata": {},
   "outputs": [],
   "source": [
    "#with open('C-P','w+b') as temp:\n",
    "    #temp.read()"
   ]
  },
  {
   "cell_type": "code",
   "execution_count": 47,
   "metadata": {},
   "outputs": [
    {
     "data": {
      "text/plain": [
       "<_io.BufferedRandom name='C-P'>"
      ]
     },
     "execution_count": 47,
     "metadata": {},
     "output_type": "execute_result"
    }
   ],
   "source": [
    "temp"
   ]
  },
  {
   "cell_type": "code",
   "execution_count": 48,
   "metadata": {},
   "outputs": [
    {
     "name": "stdout",
     "output_type": "stream",
     "text": [
      "\n",
      "Welcome to Python 3.6's help utility!\n",
      "\n",
      "If this is your first time using Python, you should definitely check out\n",
      "the tutorial on the Internet at https://docs.python.org/3.6/tutorial/.\n",
      "\n",
      "Enter the name of any module, keyword, or topic to get help on writing\n",
      "Python programs and using Python modules.  To quit this help utility and\n",
      "return to the interpreter, just type \"quit\".\n",
      "\n",
      "To get a list of available modules, keywords, symbols, or topics, type\n",
      "\"modules\", \"keywords\", \"symbols\", or \"topics\".  Each module also comes\n",
      "with a one-line summary of what it does; to list the modules whose name\n",
      "or summary contain a given string such as \"spam\", type \"modules spam\".\n",
      "\n",
      "help> with\n",
      "The \"with\" statement\n",
      "********************\n",
      "\n",
      "The \"with\" statement is used to wrap the execution of a block with\n",
      "methods defined by a context manager (see section With Statement\n",
      "Context Managers). This allows common \"try\"...\"except\"...\"finally\"\n",
      "usage patterns to be encapsulated for convenient reuse.\n",
      "\n",
      "   with_stmt ::= \"with\" with_item (\",\" with_item)* \":\" suite\n",
      "   with_item ::= expression [\"as\" target]\n",
      "\n",
      "The execution of the \"with\" statement with one \"item\" proceeds as\n",
      "follows:\n",
      "\n",
      "1. The context expression (the expression given in the \"with_item\")\n",
      "   is evaluated to obtain a context manager.\n",
      "\n",
      "2. The context manager's \"__exit__()\" is loaded for later use.\n",
      "\n",
      "3. The context manager's \"__enter__()\" method is invoked.\n",
      "\n",
      "4. If a target was included in the \"with\" statement, the return\n",
      "   value from \"__enter__()\" is assigned to it.\n",
      "\n",
      "   Note: The \"with\" statement guarantees that if the \"__enter__()\"\n",
      "     method returns without an error, then \"__exit__()\" will always be\n",
      "     called. Thus, if an error occurs during the assignment to the\n",
      "     target list, it will be treated the same as an error occurring\n",
      "     within the suite would be. See step 6 below.\n",
      "\n",
      "5. The suite is executed.\n",
      "\n",
      "6. The context manager's \"__exit__()\" method is invoked.  If an\n",
      "   exception caused the suite to be exited, its type, value, and\n",
      "   traceback are passed as arguments to \"__exit__()\". Otherwise, three\n",
      "   \"None\" arguments are supplied.\n",
      "\n",
      "   If the suite was exited due to an exception, and the return value\n",
      "   from the \"__exit__()\" method was false, the exception is reraised.\n",
      "   If the return value was true, the exception is suppressed, and\n",
      "   execution continues with the statement following the \"with\"\n",
      "   statement.\n",
      "\n",
      "   If the suite was exited for any reason other than an exception, the\n",
      "   return value from \"__exit__()\" is ignored, and execution proceeds\n",
      "   at the normal location for the kind of exit that was taken.\n",
      "\n",
      "With more than one item, the context managers are processed as if\n",
      "multiple \"with\" statements were nested:\n",
      "\n",
      "   with A() as a, B() as b:\n",
      "       suite\n",
      "\n",
      "is equivalent to\n",
      "\n",
      "   with A() as a:\n",
      "       with B() as b:\n",
      "           suite\n",
      "\n",
      "Changed in version 3.1: Support for multiple context expressions.\n",
      "\n",
      "See also:\n",
      "\n",
      "  **PEP 343** - The \"with\" statement\n",
      "     The specification, background, and examples for the Python \"with\"\n",
      "     statement.\n",
      "\n",
      "Related help topics: CONTEXTMANAGERS, EXCEPTIONS, yield\n",
      "\n",
      "\n",
      "You are now leaving help and returning to the Python interpreter.\n",
      "If you want to ask for help on a particular object directly from the\n",
      "interpreter, you can type \"help(object)\".  Executing \"help('string')\"\n",
      "has the same effect as typing a particular string at the help> prompt.\n"
     ]
    }
   ],
   "source": [
    "help()"
   ]
  },
  {
   "cell_type": "code",
   "execution_count": 50,
   "metadata": {},
   "outputs": [],
   "source": [
    "import pickle"
   ]
  },
  {
   "cell_type": "code",
   "execution_count": 52,
   "metadata": {},
   "outputs": [],
   "source": [
    "import numpy"
   ]
  },
  {
   "cell_type": "code",
   "execution_count": 55,
   "metadata": {},
   "outputs": [],
   "source": [
    "x = numpy.ones([10,10])"
   ]
  },
  {
   "cell_type": "code",
   "execution_count": 57,
   "metadata": {},
   "outputs": [],
   "source": [
    "r = open('byt','w+b')"
   ]
  },
  {
   "cell_type": "code",
   "execution_count": 63,
   "metadata": {},
   "outputs": [],
   "source": [
    "pickle.dump(x, r)"
   ]
  },
  {
   "cell_type": "code",
   "execution_count": 59,
   "metadata": {},
   "outputs": [],
   "source": [
    "r.close()"
   ]
  },
  {
   "cell_type": "code",
   "execution_count": 60,
   "metadata": {},
   "outputs": [
    {
     "data": {
      "text/plain": [
       "'/Users/james/ML Reading Club'"
      ]
     },
     "execution_count": 60,
     "metadata": {},
     "output_type": "execute_result"
    }
   ],
   "source": [
    "pwd"
   ]
  },
  {
   "cell_type": "code",
   "execution_count": 61,
   "metadata": {},
   "outputs": [],
   "source": [
    "r = open('openme','w+b')"
   ]
  },
  {
   "cell_type": "code",
   "execution_count": 62,
   "metadata": {},
   "outputs": [],
   "source": [
    "x = 'Fuck you suck my dick'"
   ]
  },
  {
   "cell_type": "code",
   "execution_count": null,
   "metadata": {},
   "outputs": [],
   "source": []
  }
 ],
 "metadata": {
  "kernelspec": {
   "display_name": "Python 3",
   "language": "python",
   "name": "python3"
  },
  "language_info": {
   "codemirror_mode": {
    "name": "ipython",
    "version": 3
   },
   "file_extension": ".py",
   "mimetype": "text/x-python",
   "name": "python",
   "nbconvert_exporter": "python",
   "pygments_lexer": "ipython3",
   "version": "3.6.5"
  }
 },
 "nbformat": 4,
 "nbformat_minor": 2
}
